{
 "cells": [
  {
   "cell_type": "markdown",
   "metadata": {},
   "source": [
    "<div style=\"text-align: center; background-color: #559cff; font-family: 'Trebuchet MS', Arial, sans-serif; color: white; padding: 20px; font-size: 40px; font-weight: bold; border-radius: 0 0 0 0; box-shadow: 0px 6px 8px rgba(0, 0, 0, 0.2);\">\n",
    "  📌  Trực Quan Hóa Dữ Liệu - 21_21 📌\n",
    "  \n",
    "   Lab 1\n",
    "</div>"
   ]
  },
  {
   "cell_type": "markdown",
   "metadata": {},
   "source": [
    "<div style=\"text-align: center; background-color: #b1d1ff; font-family: 'Trebuchet MS', Arial, sans-serif; color: white; padding: 20px; font-size: 40px; font-weight: bold; border-radius: 0 0 0 0; box-shadow: 0px 6px 8px rgba(0, 0, 0, 0.2);\">\n",
    "  Phần 2 - Khám phá và phân tích dữ liệu\n",
    "</div>"
   ]
  },
  {
   "cell_type": "code",
   "execution_count": null,
   "metadata": {},
   "outputs": [],
   "source": [
    "import os\n",
    "import time\n",
    "import numpy as np\n",
    "import pandas as pd\n",
    "import matplotlib.pyplot as plt\n",
    "import seaborn as sns\n",
    "import matplotlib.ticker as ticker\n",
    "import matplotlib.transforms as transforms\n",
    "import folium\n",
    "from selenium import webdriver\n",
    "import plotly.express as px"
   ]
  },
  {
   "cell_type": "markdown",
   "metadata": {},
   "source": [
    "# 3. EDA\n",
    "\n",
    "Trong phần này, ta sẽ đi sâu hơn về mối quan hệ giữa các biến, tìm ra các thông tin hữu ích."
   ]
  },
  {
   "cell_type": "code",
   "execution_count": null,
   "metadata": {},
   "outputs": [],
   "source": [
    "df = pd.read_csv(\"data/US_Accidents_processed.csv\")\n",
    "time_cols=['Start_Time','End_Time','Weather_Timestamp']\n",
    "for col in time_cols:\n",
    "    # df[col]=pd.to_datetime(df[col], format='%Y-%m-%d %H:%M:%S.%f')\n",
    "    df[col]=pd.to_datetime(df[col], format='mixed')"
   ]
  },
  {
   "cell_type": "markdown",
   "metadata": {},
   "source": [
    "## 3.1 Khám phá mỗi quan hệ giữa các biến"
   ]
  },
  {
   "cell_type": "code",
   "execution_count": null,
   "metadata": {},
   "outputs": [],
   "source": [
    "# variable_pairs = [(x, y) for i, x in enumerate(numerical_cols) for j, y in enumerate(numerical_cols) if i < j]\n",
    "\n",
    "numerical_df = df.select_dtypes(include=[np.number])\n",
    "\n",
    "# Tính toán ma trận tương quan\n",
    "correlation_matrix = numerical_df.corr()\n",
    "\n",
    "# Vẽ heatmap\n",
    "plt.figure(figsize=(12, 10))\n",
    "sns.heatmap(correlation_matrix, annot=True,cmap='coolwarm', fmt=\".2f\")\n",
    "plt.title('Correlation Heatmap for Numerical Columns')\n",
    "plt.show()"
   ]
  },
  {
   "cell_type": "markdown",
   "metadata": {},
   "source": [
    "**Nhận xét**\n",
    "- Hai biến có mối tương quan dương cao là Temperature và Wind_Chill  (Nhiệt độ và nhiệt độ của gió).\n",
    "- Humidity và Temperature có tương quan âm, nghĩa là khi nhiệt độ tăng cao, độ ẩm sẽ giảm. Tương tự với Humidity và Visibility (Tầm nhìn).\n",
    "- Start_Lat ( vĩ độ) cũng có tương quan âm với Nhiệt độ, nghĩa là khi vĩ độ càng cao, chúng ta càng tiến về phía Bắc nên nhiệt độ giảm.\n",
    "- Hệ số tương quan giữa các biến hầu hết là không cao, cho nên chúng ta có thể sử dụng các biến này cho mô hình học máy."
   ]
  },
  {
   "cell_type": "markdown",
   "metadata": {},
   "source": [
    "Hexbin Plot thể hiện mỗi quan hệ giữa **Nhiệt độ** và **Độ ẩm** với điều kiện thời tiết là **Mostly Cloudy**"
   ]
  },
  {
   "cell_type": "code",
   "execution_count": null,
   "metadata": {},
   "outputs": [],
   "source": [
    "import seaborn as sns\n",
    "import matplotlib.pyplot as plt\n",
    "\n",
    "# Tạo hexbin plot cho các điều kiện thời tiết chứa từ khóa 'Windy'\n",
    "windy_conditions = df[df['Weather_Condition'].str.contains('Mostly Cloudy', case=False)]\n",
    "windy_conditions.shape\n",
    "# Vẽ hexbin plot bằng Pandas\n",
    "\n",
    "windy_conditions.plot.hexbin(x=\"Humidity(%)\", y=\"Temperature(C)\", gridsize=20, cmap='Greens')\n",
    "plt.xlabel(\"Humidity(%)\")\n",
    "plt.ylabel(\"Temperature(C)\")\n",
    "plt.title(\"Hexbin Plot for Windy Conditions\")\n",
    "plt.show()"
   ]
  },
  {
   "cell_type": "markdown",
   "metadata": {},
   "source": [
    "- **Nhận xét**\n",
    "    - Nhiệt độ chủ yếu phân bố ở khoảng từ 5 - 35 độ C, và nhiều nhất ở khoảng từ 25 - 30 độ.\n",
    "    - Độ ẩm phân bố nhiều nhất ở khoảng từ 50 - 70 %. "
   ]
  },
  {
   "cell_type": "markdown",
   "metadata": {},
   "source": [
    "### Biểu đồ cột thể hiện chiều dài trung bình đoạn đường bị ảnh hưởng theo mức độ nghiêm trọng của vụ tai nạn"
   ]
  },
  {
   "cell_type": "markdown",
   "metadata": {},
   "source": [
    "- **Lợi ích**: \n",
    "    - Giúp người đọc hình dung được độ ảnh hưởng của vụ tai nạn theo mức độ nghiêm trọng của nó\n",
    "- **Lựa chọn biểu đồ**:\n",
    "    - Lựa chọn biểu đồ cột để dễ dàng so sánh độ ảnh hưởng của vụ tai nạn giữa các mức độ nghiêm trọng tương ứng"
   ]
  },
  {
   "cell_type": "code",
   "execution_count": null,
   "metadata": {},
   "outputs": [],
   "source": [
    "\n",
    "# Vẽ biểu đồ cột\n",
    "plt.figure(figsize= (15, 7))\n",
    "sns.barplot(x='Severity', y='Distance(mi)', data=df, errorbar=(\"ci\", False))\n",
    "\n",
    "plt.title('Chiều dài trung bình đoạn đường bị ảnh hưởng theo mức độ nghiêm trọng của vụ tai nạn')\n",
    "plt.xlabel('Mức độ nghiêm trọng')\n",
    "plt.ylabel('Chiều dài trung bình đoạn đường bị ảnh hưởng (mi)')\n",
    "plt.show()"
   ]
  },
  {
   "cell_type": "markdown",
   "metadata": {},
   "source": [
    "**Nhận xét**: \n",
    "- Độ ảnh hưởng tăng vọt từ mức độ 1 -> 2 và từ mức độ 3 -> 4. \n",
    "- Có thể cho rằng mức độ nghiêm trọng càng lớn thì ảnh hưởng đến giao thông càng nhiều."
   ]
  },
  {
   "cell_type": "markdown",
   "metadata": {},
   "source": [
    "### Biểu đồ Scatter biểu diễn mối quan hệ giữa Nhiệt độ và Độ gió lạnh"
   ]
  },
  {
   "cell_type": "markdown",
   "metadata": {},
   "source": [
    "- **Lợi ích**:\n",
    "    - Giúp người đọc thấy được mối tương quan giữa Nhiệt độ và Độ gió lạnh\n",
    "- **Lựa chọn biểu đồ**:\n",
    "    - Vì để thể hiện mối tương quan giữa 2 biến liên tục nên sẽ lựa chọn biểu đồ scatter"
   ]
  },
  {
   "cell_type": "code",
   "execution_count": null,
   "metadata": {},
   "outputs": [],
   "source": [
    "\n",
    "plt.figure(figsize = (15, 7))\n",
    "plt.scatter(df[\"Temperature(C)\"], df[\"Wind_Chill(C)\"])\n",
    "plt.title(\"Mối quan hệ giữa Nhiệt độ và Độ gió lạnh\")\n",
    "plt.xlabel(\"Nhiệt độ(C)\")\n",
    "plt.ylabel(\"Độ gió lạnh(C)\")\n",
    "plt.show()"
   ]
  },
  {
   "cell_type": "markdown",
   "metadata": {},
   "source": [
    "**Nhận xét**:\n",
    "- Có thể thấy khi Nhiệt độ càng tăng thì Độ gió lạnh cũng có xu hướng tăng theo.\n",
    "- Tồn tại một Độ gió lạnh mà ở đó Nhiệt độ không ảnh hưởng đến nó."
   ]
  },
  {
   "cell_type": "markdown",
   "metadata": {},
   "source": [
    "## 3.2 Các câu hỏi khám phá dữ liệu"
   ]
  },
  {
   "cell_type": "markdown",
   "metadata": {},
   "source": [
    "### 3.2.1 Tổng quan tình hình tai nạn qua các năm\n",
    "- **Lợi ích:**\n",
    "    - Giúp người đọc có cái nhìn chung về tình hình tai nạn giao thông qua các năm\n",
    "- **Lựa chọn biểu đồ:**\n",
    "    - Do mục đích chính của phần này là để có cái nhìn chung về số ca tai nạn theo từng năm, nên ta có thể sử dụng biểu đồ đường, biểu đồ miền, scattter plot,... Bên cạnh đó, do em muốn nhìn thấy sự thay đổi của các phân loại tai nạn (theo mức độ nghiêm trọng, theo thời gian,..) nên em sẽ sử dụng biểu đồ miền"
   ]
  },
  {
   "cell_type": "code",
   "execution_count": null,
   "metadata": {},
   "outputs": [],
   "source": [
    "\n",
    "# Tạo bản sao của df\n",
    "df_copy = df.copy()\n",
    "\n",
    "# Tạo cột Year từ Start_Time\n",
    "df_copy['Year'] = df_copy['Start_Time'].dt.year\n",
    "\n",
    "# Tính tổng số vụ tai nạn theo năm và mức độ nghiêm trọng\n",
    "df_grouped = df_copy.groupby(['Year', 'Severity']).size().reset_index(name='Count')\n",
    "\n",
    "# Vẽ biểu đồ miền\n",
    "fig = px.area(df_grouped, x=\"Year\", y=\"Count\", color=\"Severity\",\n",
    "              title='Tổng số vụ tai nạn qua các năm theo mức độ nghiêm trọng',\n",
    "              labels={'Count':'Tổng số vụ tai nạn', 'Year':'Năm', 'Severity':'Mức độ nghiêm trọng'})\n",
    "\n",
    "fig.show()"
   ]
  },
  {
   "cell_type": "code",
   "execution_count": null,
   "metadata": {},
   "outputs": [],
   "source": [
    "# Group data by Year and Timezone\n",
    "df_grouped_timezone = df_copy.groupby(['Year', 'Timezone']).size().reset_index(name='Count')\n",
    "\n",
    "# Plot area chart for Timezone\n",
    "fig_timezone = px.area(df_grouped_timezone, x=\"Year\", y=\"Count\", color=\"Timezone\",\n",
    "                       title='Tổng số vụ tai nạn qua các năm theo vị trí',\n",
    "                       labels={'Count':'Tổng số vụ tai nạn', 'Year':'Năm', 'Timezone':'Vị trí'})\n",
    "fig_timezone.show()\n"
   ]
  },
  {
   "cell_type": "code",
   "execution_count": null,
   "metadata": {},
   "outputs": [],
   "source": [
    "# Group data by Year and Sunrise_Sunset\n",
    "df_grouped_sunrise_sunset = df_copy.groupby(['Year', 'Sunrise_Sunset']).size().reset_index(name='Count')\n",
    "\n",
    "# Plot area chart for Sunrise_Sunset\n",
    "fig_sunrise_sunset = px.area(df_grouped_sunrise_sunset, x=\"Year\", y=\"Count\", color=\"Sunrise_Sunset\",\n",
    "                             title='Tổng số vụ tai nạn qua các năm theo buổi',\n",
    "                             labels={'Count':'Tổng số vụ tai nạn', 'Year':'Năm', 'Sunrise_Sunset':'Buổi'})\n",
    "fig_sunrise_sunset.show()\n"
   ]
  },
  {
   "cell_type": "markdown",
   "metadata": {},
   "source": [
    "Kết luận rút ra:\n",
    "- Phần lớn các vụ tai nạn nằm ở mức 2 - làm cản trở giao thông, nhưng không quá lớn.\n",
    "- Số vụ tai nạn nhìn chung tăng dần theo thời gian, số vụ tai nạn của năm 2023 tương đối ít là do dữ liệu chỉ thu thập đến khoảng Tháng 3 năm 2023.\n",
    "- Mặc dù tổng số vụ tai nạn tăng, nhưng tổng số vụ tai nạn ở mức 3 có sự giảm đáng kể, từ 29.000 vụ (năm 2018), xuống 7.000 (năm 2022); nhưng tai nạn để lại hậu quả rất nghiêm trọng (mức 4) lại gia tăng từ 2633 (năm 2018) lên 4412 (năm 2022)\n",
    "- Xu thế các vụ tai nạn chủ yếu xảy ra ở ban ngày, nhưng tốc độ tăng của các vụ tai nạn vào ban ngày (từ khoảng 70.000 (2019) lên khoảng     127.000 (2022)) chậm hơn tốc độ tăng của tai nạn về đêm (từ khoảng 25.000 lên 49.000).\n",
    "- Phần lớn các vụ tai nạn xảy ra ở bờ Đông Hoa Kì và vùng Trung tâm. Đây cũng là 2 vùng có số vụ tai nạn tăng nhanh trong khoảng từ 2019 đến 2022 (Đông Hoa kì tăng lên gấp 3, vùng trung tâm tăng lên khoảng gấp 2). Các vùng khác có số lượng vụ tai nạn ít hơn và tốc độ tăng cũng tương đối thấp hơn (tăng khoảng 30% qua 3 năm).\n",
    "\n",
    "=>> Xu thế chung là số vụ tai nạn tăng, nhưng tăng nhanh nhất ở Đông Hoa Kì và vùng Trung tâm, số vụ tai nạn diễn ra vào ban đêm ngày một nhiều hơn trước\n"
   ]
  },
  {
   "cell_type": "markdown",
   "metadata": {},
   "source": [
    "### 3.2.2 Số vụ tai nạn diễn ra trong các ngày trong tuần, các thời điểm trong ngày ? \n",
    "\n",
    "- **Lợi ích:** Giúp cho người dân biết thời điểm nào hay xảy ra tai nạn để hạn chế ra đường, và các cơ quan cảnh sát địa phương có thể tăng cường đi tuần tra vào thời điểm đó để bảo đảm trật tự giao thông, hạn chế tai nạn xảy ra.\n",
    "- **Lựa chọn biểu đồ:** Biểu đồ `heatmap` sẽ là phù hợp nhất, với các cột là các ngày trong tuần, hàng là khoảng thời gian trong ngày (đơn vị 1 giờ) .Màu sắc trong một ô sẽ thể hiện số vụ tai nạn trong thời điểm đó."
   ]
  },
  {
   "cell_type": "code",
   "execution_count": null,
   "metadata": {},
   "outputs": [],
   "source": [
    "# Tạo một mảng 2D chứa số vụ tai nạn giao thông cho mỗi khoảng thời gian 2 tiếng cho mỗi ngày trong tuần\n",
    "accident_per_2hours_df = np.zeros((12, 7))\n",
    "\n",
    "# Chuyển đổi cột 'Start_Time' thành đối tượng datetime nếu cần\n",
    "df['Start_Time'] = pd.to_datetime(df['Start_Time'])\n",
    "\n",
    "# Lấy giờ và ngày trong tuần từ cột 'Start_Time'\n",
    "hours = df['Start_Time'].dt.hour\n",
    "days_of_week = df['Start_Time'].dt.dayofweek\n",
    "\n",
    "# Chia giờ thành các khoảng thời gian 2 tiếng và tính toán số vụ tai nạn \n",
    "# giao thông trong mỗi khoảng thời gian\n",
    "hour_bins = np.floor(hours / 2).astype(int)\n",
    "accident_per_2hours_df = np.bincount(hour_bins * 7 + days_of_week, minlength=12*7).reshape(12, 7)\n",
    "\n"
   ]
  },
  {
   "cell_type": "code",
   "execution_count": null,
   "metadata": {},
   "outputs": [],
   "source": [
    "#Gán nhãn cho cột và hàng\n",
    "y_label=[\"12am-2am\",\"2am-4am\",\"4am-6am\",\"6am-8am\",\"8am-10am\",\"10am-12pm\",\n",
    "         \"12pm-2pm\",\"2pm-4pm\",\"4pm-6pm\",\"6pm-8pm\",\"8pm-10pm\",\"10pm-12am\"]\n",
    "\n",
    "x_label=[\"Monday\",\"Tuesdat\",\"Wednesday\",\"Thursday\",\"Friday\",\"Saturday\",\"Sunday\"]\n",
    "\n",
    "accident_per_2hours_df=pd.DataFrame(accident_per_2hours_df,columns=x_label,index=y_label)\n",
    "plt.figure(figsize=(15,7))\n",
    "sns.heatmap(accident_per_2hours_df,annot=True,fmt='d')\n",
    "plt.title('Số vụ tai nạn qua các thời điểm trong ngày và tuần')\n",
    "plt.show()"
   ]
  },
  {
   "cell_type": "markdown",
   "metadata": {},
   "source": [
    "- **Kết luận rút ra được:**\n",
    "    - So với các ngày trong tuần, thì `Thứ 7` và `Chủ nhật` là các ngày xảy ra ít tai nạn hơn so với các ngày còn lại .Có thể vì là ngày cuối tuần đa số người dân sẽ ở nhà nghỉ ngơi, nên số người ra đường ít hơn so với các ngày trong tuần.\n",
    "    - Thời điểm `6am-10am` và `4pm-6pm` là các thời điểm xảy ra nhiều vụ tai nạn nhất trong ngày, nhất là các ngày trong tuần. Dễ hiểu vì đây là các giờ cao điểm, lưu lượng phương tiện lưu thông trên đường phố rất cao, dẫn đến các vụ tai nạn có thể xảy ra nhiều hơn."
   ]
  },
  {
   "cell_type": "markdown",
   "metadata": {},
   "source": [
    "### 3.2.3 Số vụ tai nạn biến động qua các năm như thế nào ?\n",
    "- **Lợi ích:**\n",
    "    - Giúp cho người dân và các cơ quan chính phủ nắm bắt tình hình, thực trạng tai nạn ở Mỹ như thế nào thông qua các biểu đồ thể hiện số lượng vụ tai nạn qua các năm và số liệu đó có tính chu kì hay không .Điều này giúp cho các cơ quan có phương án hợp lí, kịp thời để xử lí các vấn đề trên.\n",
    "- **Lựa chọn biểu đồ:**\n",
    "    - Ta sẽ thực hiện decompose trên dữ liệu số lượng vụ tai nạn theo thời gian để phân tích tính xu hướng và chu kì, biểu đồ phù hợp nhất sẽ là biểu đồ đường."
   ]
  },
  {
   "cell_type": "code",
   "execution_count": null,
   "metadata": {},
   "outputs": [],
   "source": [
    "#Chuẩn bị dữ liệu cho biểu đồ\n",
    "df_time=df['Start_Time'].dt.date\n",
    "df_time=pd.DataFrame(df_time.value_counts().sort_index())\n",
    "df_time.columns=['Number of accidents']"
   ]
  },
  {
   "cell_type": "code",
   "execution_count": null,
   "metadata": {},
   "outputs": [],
   "source": [
    "\n",
    "from statsmodels.tsa.seasonal import seasonal_decompose\n",
    "\n",
    "# Phân tách thành phần\n",
    "result = seasonal_decompose(df_time['Number of accidents'], model='additive', period=365) # period: chu kỳ theo năm\n",
    "\n",
    "# Vẽ biểu đồ\n",
    "plt.figure(figsize=(20, 10))\n",
    "\n",
    "plt.subplot(4, 1, 1)\n",
    "plt.plot(df_time.index, df_time['Number of accidents'], label='Ban đầu')\n",
    "plt.legend()\n",
    "\n",
    "plt.subplot(4, 1, 2)\n",
    "plt.plot(result.trend, label='Xu hướng')\n",
    "plt.legend()\n",
    "\n",
    "plt.subplot(4, 1, 3)\n",
    "plt.plot(result.seasonal, label='Mùa vụ')\n",
    "plt.legend()\n",
    "\n",
    "plt.show()\n"
   ]
  },
  {
   "cell_type": "markdown",
   "metadata": {},
   "source": [
    "- **Kết luận rút ra được:**\n",
    "    - Đối với biểu đồ xu hướng, ta thấy số lượng các vụ tai nạn đang có xu hướng tăng theo thời gian, có thể do càng ngày dân cư càng đông, tỷ lệ sở hữu phương tiện cá nhân càng nhiều,.. dẫn đến tần suất các phương tiện lưu thông trên đường càng cao, số vụ tai nạn càng tăng.\n",
    "    - Đôi với biểu đồ thể hiện tính mùa vụ, ta thấy số lượng vụ tai nạn cũng có yếu tố mùa vụ .Số liệu tăng cao vào giai đoạn cuối năm, đầu năm và giảm vào các giai đoạn ở giữa năm .Điều này có thể là do vào mùa đông (cuối năm, đầu năm) thì điều kiện thời tiết không tốt để lưu thông trên đường như:sương mù, tuyết làm mặt đường trơn trượt,..."
   ]
  },
  {
   "cell_type": "markdown",
   "metadata": {},
   "source": [
    "### 3.2.4 Diễn biến mức độ tai nạn ở các bang như thế nào ?\n",
    "- **Lợi ích:**\n",
    "    - Giúp cho người dân nước Mỹ và các cơ quan chính phủ nắm bắt tình hình, thực trạng tai nạn ở Mỹ như thế nào qua các bang, cấp độ để những cơ quan của từng bang có những quy định, luật riêng phù hợp.\n",
    "- **Lựa chọn biểu đồ:**\n",
    "    - Có thể thể hiện điều này bằng biều đồ cột chồng, nhưng để thể hiện tốt hơn yếu tố địa lý thì biểu đồ choropleth sẽ phù hợp và thể hiện tốt hơn."
   ]
  },
  {
   "cell_type": "code",
   "execution_count": null,
   "metadata": {},
   "outputs": [],
   "source": [
    "#Chuẩn bị data cho biểu đồ \n",
    "\n",
    "#Dùng value_counts() để tính số vụ tai nạn theo bang (state) và mức độ  (severity)\n",
    "state_num_acc_df=df[['Severity','State']].value_counts().to_frame().reset_index()\n",
    "state_num_acc_df=state_num_acc_df.rename(columns={0:\"Num\"})\n",
    "state_num_acc_df.head()"
   ]
  },
  {
   "cell_type": "code",
   "execution_count": null,
   "metadata": {},
   "outputs": [],
   "source": [
    "df.columns"
   ]
  },
  {
   "cell_type": "code",
   "execution_count": null,
   "metadata": {},
   "outputs": [],
   "source": [
    "#Hàm tính các giá trị lat,lon trung tâm của mỗi state\n",
    "def Create_Center_LatLong_State():\n",
    "    state_df=df[['State','Start_Lat','Start_Lng']]\n",
    "    state_df=state_df.groupby('State').mean()\n",
    "    return state_df\n",
    "def Create_Map_Followed_By_Severity(severity,html_name):\n",
    "    \"\"\"Tạo map hiển thị số vụ tai nạn theo bang, theo mức độ nghiêm trọng.\n",
    "    Returns:\n",
    "        file html:\n",
    "    \"\"\"\n",
    "    #Gọi để lấy dữ liệu vị trí khu vực Bắc Mỹ \n",
    "    southcentral_geo = 'https://raw.githubusercontent.com/samwilliamsprojects/southCentralRegion/main/southcentraljson.geojson' \n",
    "\n",
    "    # Tính toán trung tâm của nước Mỹ (latitude, longitude), để hiển thị biểu đồ ban đầu\n",
    "    us_center_latitude = (49.384358 + 24.396308) / 2\n",
    "    us_center_longitude = (-66.93457 + -125.00165) / 2\n",
    "    \n",
    "    #Tạo map với center map ban đầu được gán ở biến location, độ phóng to ban đầu (zoom_start)\n",
    "    _map = folium.Map(location=[us_center_latitude, us_center_longitude], zoom_start=4.2)\n",
    "    \n",
    "    \n",
    "    #Chọn mức độ để hiện thị \n",
    "    state_num_acc_df_plot=state_num_acc_df[state_num_acc_df['Severity']==severity]\n",
    "    \n",
    "    \n",
    "    folium.Choropleth(\n",
    "        geo_data=southcentral_geo,  # new geojson data\n",
    "        name=\"choropleth\",         #tên lớp biểu đồ \n",
    "        data=state_num_acc_df_plot,  #data dùng để vẽ \n",
    "        columns=[\"State\", \"Num\"],     #các cột dùng để ánh xạ với thuộc tính state bản đồ \n",
    "        key_on=\"feature.properties.id\",  #thuộc tính trong dữ liệu địa lý (geojson) được sử dụng để kết nối với data\n",
    "        fill_color=\"YlGn\",      #màu sắc được sử dụng để tô màu các khu vực trên biểu đồ choropleth\n",
    "        fill_opacity=0.7,        #độ trong suốt của màu sắc được sử dụng để tô màu các khu vực\n",
    "        line_opacity=0.1,       #độ trong suốt của các đường biên giới giữa các khu vực \n",
    "        legend_name=\"No.Accident \",  # Tên của chú giải trên biểu đồ choropleth\n",
    "    ).add_to(_map)\n",
    "     \n",
    "    \n",
    "    #Gọi lại để lấy dữ liệu latlong trung tâm của mỗi state\n",
    "    state_df=Create_Center_LatLong_State()\n",
    "\n",
    "    # Thêm tên của các bang vào bản đồ\n",
    "    for state in list(state_df.index):\n",
    "         folium.Marker(state_df.loc[state,:], icon=folium.DivIcon\n",
    "                       (html=f'<div style=\"font-family: Arial; font-size: 12pt;\">{state}</div>')).add_to(_map)\n",
    "         \n",
    "    #Lưu lại bản đồ dưới dạng file html \n",
    "    _map.save(html_name)  \n",
    "   \n",
    "def Cap_Picture(image_path,html_name):\n",
    "    #Lấy đường dẫn hiện tại \n",
    "    driver_path=os.getcwd()\n",
    "    \n",
    "    #Tạo một web đriver \n",
    "    driver = webdriver.Chrome()\n",
    "    \n",
    "    #Tạo đường dẫn để tiến hành mở render file html lên\n",
    "    html_file_path = \"file://\"+driver_path+\"/\"+html_name\n",
    "    \n",
    "    \n",
    "    # Render file bản đồ (html)\n",
    "    driver.get(html_file_path)\n",
    "\n",
    "    #Chờ 2s để render xong mới cap màn hình \n",
    "    time.sleep(2)\n",
    "    \n",
    "    # Cap màn hình lại và lưu file \n",
    "    driver.save_screenshot(image_path)\n",
    "\n",
    "    # Đóng wedriver\n",
    "    driver.quit()"
   ]
  },
  {
   "cell_type": "code",
   "execution_count": null,
   "metadata": {},
   "outputs": [],
   "source": [
    "#Danh sách các severity trong bộ dữ liệu \n",
    "severities=[1,2,3,4]\n",
    "\n",
    "#Tên file html dùng chung cho tất cả severity\n",
    "default_html_name=\"accidents_map.html\"\n",
    "\n",
    "#Lấy đường dẫn hiện tại \n",
    "driver_path=os.getcwd()\n",
    "\n",
    "#Chưa có folder Image để lưu các hình ảnh thì tạo \n",
    "if not os.path.exists(driver_path+\"/Image\"):\n",
    "    os.mkdir(driver_path+\"/Image\")\n",
    "    \n",
    "#Duyệt qua các severity để tạo bản đồ,recap bản đồ bằng selenum,lưu lại file ảnh \n",
    "for severity in severities:\n",
    "    \n",
    "    #Tạo map và lưu lại vào file html dùng chung\n",
    "    Create_Map_Followed_By_Severity(severity,default_html_name)\n",
    "\n",
    "    #Tạo tên/đường dẫn hình ảnh \n",
    "    image_path=driver_path+\"/Image/State_With_Severity_{}.png\".format(severity)\n",
    "    \n",
    "    #Nếu đã có phiên bản trước đó, xoá và cập nhật\n",
    "    if os.path.exists(image_path):\n",
    "        os.remove(image_path)\n",
    "    \n",
    "    #Recap màn hình và lưu file lại \n",
    "    Cap_Picture(image_path,default_html_name)\n"
   ]
  },
  {
   "cell_type": "code",
   "execution_count": null,
   "metadata": {},
   "outputs": [],
   "source": [
    "fig, ax = plt.subplots(figsize=(20,10),nrows=2,ncols=2)\n",
    "for id,severity in enumerate(severities): \n",
    "    image_path=driver_path+\"/Image/State_With_Severity_{}.png\".format(severity)\n",
    "    # Đọc các hình ảnh .png từ đường dẫn và hiển thị chúng trên từng subplot\n",
    "    image1 = plt.imread(image_path)\n",
    "    \n",
    "    ax[id//2][id%2].imshow(image1)\n",
    "    ax[id//2][id%2].axis('off')\n",
    "    ax[id//2][id%2].set_title(\"Phân bố số các vụ tai nạn mức độ {}\".format(severity))"
   ]
  },
  {
   "cell_type": "markdown",
   "metadata": {},
   "source": [
    "- Kết luận rút ra:\n",
    "    - Hầu hết các bang có sự phân bố số vụ tai nạn không đồng đều ở các bang, các cấp độ.\n",
    "    - Bang `California` là bang có số vụ tai nạn ở tất cả các mức độ là nhiều nhất .Điều này có thể do bang này là bang đông dân nhất nước Mỹ và là nơi trung tâm vận tải quan trọng của quốc gia này, nên tỷ lệ xảy ra các vụ nạn có lẽ sẽ cao hơn so với các bang khác."
   ]
  },
  {
   "cell_type": "markdown",
   "metadata": {},
   "source": [
    "### 3.2.5 Các điều kiện thời tiết ở ban ngày và ban đêm khi xảy ra tai nạn?\n",
    "- **Lợi ích:**\n",
    "    - Giúp mọi người tham gia giao thông ở những điều kiện thời tiết xấu có sự cảnh giác.\n",
    "- **Lựa chọn biểu đồ**\n",
    "    - Biểu đồ cánh bướm, giúp thể hiện sự tương quan giữa ban ngày và ban đêm ở từng điều kiện thời tiết."
   ]
  },
  {
   "cell_type": "code",
   "execution_count": null,
   "metadata": {},
   "outputs": [],
   "source": [
    "def butterfly_chart(data: pd.DataFrame, title: str = None, middle_label_offset=0.01, figsize=(5, 2), wspace=0.6):\n",
    "    \"\"\" \"\"\"\n",
    "    plt.rcParams.update({\n",
    "        'figure.facecolor': 'w',\n",
    "        'font.size': 12,\n",
    "        'axes.titlesize': 16,\n",
    "        'xtick.labelsize': 10,\n",
    "        'patch.force_edgecolor': True,\n",
    "        'patch.facecolor': 'black',\n",
    "        'axes.spines.bottom': False,\n",
    "        'axes.spines.left': False,\n",
    "        'axes.spines.right': False,\n",
    "        'axes.spines.top': False,\n",
    "        'xtick.bottom': False,\n",
    "        'xtick.top': False,\n",
    "        'axes.titlepad': 10,\n",
    "        'axes.grid': True,\n",
    "        'grid.color': 'k',\n",
    "        'grid.linestyle': ':',\n",
    "        'grid.linewidth': 0.5,\n",
    "        'lines.dotted_pattern': [1, 3],\n",
    "        'lines.scale_dashes': False\n",
    "    })\n",
    "\n",
    "    fig, (ax1, ax2) = plt.subplots(\n",
    "        figsize=figsize,\n",
    "        dpi=100,\n",
    "        nrows=1,\n",
    "        ncols=2,\n",
    "        subplot_kw={'yticks': []},\n",
    "        gridspec_kw={'wspace': wspace},\n",
    "    )\n",
    "    \n",
    "    # Phân loại dữ liệu theo điều kiện thời tiết và thời gian (Ngày và Đêm)\n",
    "    day_weather_counts = data[data[\"Sunrise_Sunset\"] == \"Day\"][\"Weather_Condition\"].value_counts().head(10)\n",
    "    night_weather_counts = data[data[\"Sunrise_Sunset\"] == \"Night\"][\"Weather_Condition\"].value_counts().head(10)\n",
    "\n",
    "    # Lấy danh sách 10 điều kiện thời tiết nhiều nhất\n",
    "    all_conditions = list(set(day_weather_counts.index) | set(night_weather_counts.index))\n",
    "\n",
    "    # Đảm bảo rằng tất cả các điều kiện thời tiết có sẵn trong cả ngày và đêm\n",
    "    day_weather_counts = day_weather_counts.reindex(all_conditions, fill_value=0)\n",
    "    night_weather_counts = night_weather_counts.reindex(all_conditions, fill_value=0)\n",
    "\n",
    "    # plot the data\n",
    "    y = range(len(all_conditions))\n",
    "\n",
    "    ax1.barh(y=y, width=day_weather_counts, color='tab:blue', zorder=3)\n",
    "    ax1.invert_xaxis()\n",
    "    ax1.set_title('Ngày')\n",
    "\n",
    "    ax2.barh(y=y, width=night_weather_counts, color='tab:orange', zorder=3)\n",
    "    ax2.set_title('Đêm')\n",
    "    \n",
    "    # forced shared xlim\n",
    "    x_max = max(ax1.get_xlim()[0], ax2.get_xlim()[0])\n",
    "    ax1.set_xlim((x_max, 0))\n",
    "    ax2.set_xlim((0, x_max))\n",
    "    \n",
    "\n",
    "    # turn on axes spines on the inside y-axis\n",
    "    ax1.spines['right'].set_visible(True)\n",
    "    ax2.spines['left'].set_visible(True)\n",
    "    \n",
    "\n",
    "    # place center labels\n",
    "    transform = transforms.blended_transform_factory(fig.transFigure, ax1.transData)\n",
    "    for i, label in enumerate(all_conditions):\n",
    "        ax1.text(0.5+middle_label_offset, i, label, ha='center', va='center', transform=transform)\n",
    "\n",
    "    plt.suptitle(title, y=1.05, fontsize='x-large')\n",
    "\n",
    "# Sử dụng hàm butterfly_chart với dữ liệu của bạn\n",
    "# data là DataFrame chứa cột \"Weather_Condition\" và \"Sunrise_Sunset\"\n",
    "butterfly_chart(\n",
    "    df,\n",
    "    figsize=(16, 5),\n",
    "    wspace=0.35,\n",
    "    middle_label_offset=0.015,\n",
    "    title='Top 10 điều kiện thời tiết khi xảy ra tai nạn'\n",
    ")\n",
    "plt.show()"
   ]
  },
  {
   "cell_type": "markdown",
   "metadata": {},
   "source": [
    "- **Nhận xét**\n",
    "    - Ta có thể thấy hầu hết các điều kiện thời tiết đều xuất hiện ở hai phía, số vụ tai nạn ở ban ngày nhiều hơn ban đêm, có thể do ở ban ngày lưu lượng giao thông nhiều hơn. \n",
    "    - Haze và Fog là hai hiện tượng Sương Mù ở riêng biệt ở ban ngày và ban đêm, nên sự xuất hiện ở trên biểu đồ là hợp lí."
   ]
  },
  {
   "cell_type": "markdown",
   "metadata": {},
   "source": [
    "### 3.2.6 Ảnh hưởng của tốc độ gió và tầm nhìn đến tai nạn?\n",
    "- **Lợi ích:**\n",
    "    - Hiểu rõ hơn về mối quan hệ giữa tốc độ gió và tầm nhìn với tình trạng tai nạn giao thông, từ đó có những biện pháp an toàn.\n",
    "- **Lựa chọn biểu đồ**\n",
    "    - Scatter plot để xác định tương quan giữa các biến liên tục, ở đây là tốc độ gió / tầm nhìn với số lượng tai nạn."
   ]
  },
  {
   "cell_type": "code",
   "execution_count": null,
   "metadata": {},
   "outputs": [],
   "source": [
    "# Tạo DataFrame cho dữ liệu về tốc độ gió\n",
    "wind = pd.DataFrame(df[\"Wind_Speed(mph)\"].value_counts()).reset_index()\n",
    "wind.columns = [\"Wind_Speed\", \"Cases\"]\n",
    "\n",
    "# Tạo DataFrame cho dữ liệu về tầm nhìn\n",
    "visibility = pd.DataFrame(df[\"Visibility(mi)\"].value_counts()).reset_index()\n",
    "visibility.columns = [\"Visibility\", \"Cases\"]\n",
    "\n",
    "# Tạo subplots\n",
    "fig, axs = plt.subplots(1, 2, figsize=(18, 6))\n",
    "\n",
    "# Vẽ biểu đồ cho dữ liệu về tốc độ gió\n",
    "sns.scatterplot(x=wind.Cases, y=wind.Wind_Speed[wind.Wind_Speed < 100], ax=axs[0], color='deepskyblue')\n",
    "axs[0].set_ylabel('Tốc độ gió (mph)', fontsize=15)\n",
    "axs[0].set_xlabel('Số ca tai nạn', fontsize=15)\n",
    "axs[0].tick_params(axis='x', labelsize=13)\n",
    "axs[0].tick_params(axis='y', labelsize=12)\n",
    "axs[0].xaxis.set_major_formatter(ticker.EngFormatter())\n",
    "\n",
    "# Vẽ biểu đồ cho dữ liệu về tầm nhìn\n",
    "sns.scatterplot(x=visibility.Cases, y=visibility.Visibility[visibility.Visibility < 50], ax=axs[1], color='deepskyblue')\n",
    "axs[1].set_ylabel('Tầm nhìn (mi)', fontsize=15)\n",
    "axs[1].set_xlabel('Số ca tai nạn', fontsize=15)\n",
    "axs[1].tick_params(axis='x', labelsize=13)\n",
    "axs[1].tick_params(axis='y', labelsize=12)\n",
    "axs[1].set_xlim(1000, 60000)\n",
    "axs[1].xaxis.set_major_formatter(ticker.EngFormatter())\n",
    "\n",
    "plt.tight_layout()\n",
    "\n",
    "plt.show()\n"
   ]
  },
  {
   "cell_type": "markdown",
   "metadata": {},
   "source": [
    "- **Nhận xét**\n",
    "    - Trong đa số các ca tai nạn xảy ra, tốc độ gió nằm trong khoảng 5 - 10 (mph), không phải là tốc độ đáng kể (lớn).\n",
    "    \n",
    "    - Tương tự, trong đa số các ca tai nạn xảy ra, phạm vi tầm nhìn nằm trong khoảng từ 5 - 10 (mi), là một khoảng an toàn.\n",
    "    \n",
    "    => Do đó, tốc độ gió và tầm nhìn không phải là những nguyên nhân chính gây ra tai nạn."
   ]
  }
 ],
 "metadata": {
  "kernelspec": {
   "display_name": "Python 3 (ipykernel)",
   "language": "python",
   "name": "python3"
  },
  "language_info": {
   "codemirror_mode": {
    "name": "ipython",
    "version": 3
   },
   "file_extension": ".py",
   "mimetype": "text/x-python",
   "name": "python",
   "nbconvert_exporter": "python",
   "pygments_lexer": "ipython3",
   "version": "3.12.1"
  }
 },
 "nbformat": 4,
 "nbformat_minor": 4
}
