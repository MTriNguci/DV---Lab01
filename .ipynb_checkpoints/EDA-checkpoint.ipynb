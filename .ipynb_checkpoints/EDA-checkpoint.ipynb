{
 "cells": [
  {
   "cell_type": "markdown",
   "metadata": {},
   "source": [
    "<div style=\"text-align: center; background-color: #559cff; font-family: 'Trebuchet MS', Arial, sans-serif; color: white; padding: 20px; font-size: 40px; font-weight: bold; border-radius: 0 0 0 0; box-shadow: 0px 6px 8px rgba(0, 0, 0, 0.2);\">\n",
    "  📌  Trực Quan Hóa Dữ Liệu - 21_21 📌\n",
    "  \n",
    "   Lab 1\n",
    "</div>"
   ]
  },
  {
   "cell_type": "markdown",
   "metadata": {},
   "source": []
  },
  {
   "cell_type": "markdown",
   "metadata": {},
   "source": [
    "# 3. EDA ( Chú ý khi sử dụng 'df' để tránh thay đổi df gốc)"
   ]
  },
  {
   "cell_type": "code",
   "execution_count": null,
   "metadata": {},
   "outputs": [],
   "source": [
    "import numpy as np\n",
    "import pandas as pd\n",
    "import matplotlib.pyplot as plt\n",
    "import seaborn as sns \n"
   ]
  },
  {
   "cell_type": "code",
   "execution_count": null,
   "metadata": {},
   "outputs": [],
   "source": [
    "df = pd.read_csv(\"data/US_Accidents_processed.csv\")\n",
    "time_cols=['Start_Time','End_Time','Weather_Timestamp']\n",
    "for col in time_cols:\n",
    "    df[col]=pd.to_datetime(df[col], format='mixed')\n",
    "    #df[col]=pd.to_datetime(df[col], format='mixed')"
   ]
  },
  {
   "cell_type": "markdown",
   "metadata": {},
   "source": [
    "## 3.1 Khám phá mỗi quan hệ giữa các biến"
   ]
  },
  {
   "cell_type": "code",
   "execution_count": null,
   "metadata": {},
   "outputs": [],
   "source": [
    "# variable_pairs = [(x, y) for i, x in enumerate(numerical_cols) for j, y in enumerate(numerical_cols) if i < j]\n",
    "\n",
    "numerical_df = df.select_dtypes(include=[np.number])\n",
    "\n",
    "# Tính toán ma trận tương quan\n",
    "correlation_matrix = numerical_df.corr()\n",
    "\n",
    "# Vẽ heatmap\n",
    "plt.figure(figsize=(12, 10))\n",
    "sns.heatmap(correlation_matrix, annot=True,cmap='coolwarm', fmt=\".2f\")\n",
    "plt.title('Correlation Heatmap for Numerical Columns')\n",
    "plt.show()"
   ]
  },
  {
   "cell_type": "markdown",
   "metadata": {},
   "source": [
    "**Comment**"
   ]
  },
  {
   "cell_type": "markdown",
   "metadata": {},
   "source": [
    "### Pie chart thể hiện phần trăm số lượng vụ tai nạn theo vùng "
   ]
  },
  {
   "cell_type": "markdown",
   "metadata": {},
   "source": [
    "**Lý do**: Pie chart có tính chất đơn giản và dễ hiểu, dễ dàng so sánh phần trăm của các giá trị một cách trực quan. Ngoài ra, pie chart còn đặc biệt hiệu trong trường hợp này khi số giá trị là nhỏ (4 giá trị)."
   ]
  },
  {
   "cell_type": "code",
   "execution_count": null,
   "metadata": {},
   "outputs": [],
   "source": [
    "# Tính số lượng vụ tai nạn tại các vùng\n",
    "timezones = df['Timezone'].value_counts()\n",
    "\n",
    "# Vẽ pie chart cho số vụ tai nạn theo từng state\n",
    "plt.figure(figsize=(8, 8))\n",
    "\n",
    "# Định nghĩa hàm để hiển thị giá trị lên pie chart\n",
    "def absolute_value(val):\n",
    "    a  = np.round(val/100*timezones.sum(), 0)\n",
    "    return '{:.1f}%\\n({:.0f})'.format(val, a)\n",
    "\n",
    "plt.pie(timezones, labels=timezones.index, startangle=90, autopct=absolute_value)\n",
    "\n",
    "# Đặt tiêu đề cho pie chart\n",
    "plt.title('Số lượng vụ tai nạn theo vùng')\n",
    "plt.tight_layout()\n",
    "plt.show()\n",
    "\n"
   ]
  },
  {
   "cell_type": "markdown",
   "metadata": {},
   "source": [
    "### Biểu đồ scatter thể hiện chiều dài đoạn đường bị ảnh hưởng theo mức độ nghiêm trọng của vụ tai nạn"
   ]
  },
  {
   "cell_type": "markdown",
   "metadata": {},
   "source": [
    "**Lý do**: Biểu đồ scatter cho phép biểu diễn mối quan hệ giữa 2 biến số một cách trực quan và định lượng. Mỗi điểm trên biểu đồ tương ứng với một cặp giá trị của 2 biến, cho phép chúng ta đánh giá mối quan hệ giữa chúng. Biểu đồ scatter còn cho phép biểu diễn lượng dữ liệu lớn nhưng vẫn hiển thị chúng một cách rõ ràng và dễ hiểu."
   ]
  },
  {
   "cell_type": "code",
   "execution_count": null,
   "metadata": {},
   "outputs": [],
   "source": [
    "# Vẽ biểu đồ scatter\n",
    "plt.figure(figsize=(10, 6))\n",
    "sns.scatterplot(x='Distance(mi)', y='Severity', data=df)\n",
    "\n",
    "# Đặt tiêu đề và label cho biểu đồ\n",
    "plt.title('Chiều dài đoạn đường bị ảnh hưởng theo mức độ nghiêm trọng của vụ tai nạn')\n",
    "plt.xlabel('Distance (miles)')\n",
    "plt.ylabel('Severity')\n",
    "\n",
    "plt.tight_layout()\n",
    "plt.show()"
   ]
  },
  {
   "cell_type": "markdown",
   "metadata": {},
   "source": [
    "## 3.2 Các câu hỏi khám phá dữ liệu"
   ]
  },
  {
   "cell_type": "code",
   "execution_count": null,
   "metadata": {},
   "outputs": [],
   "source": [
    "#   YOU CAN COMMENT THE CODE WHEN DOING YOUR TASK\n",
    "\n",
    "import folium\n",
    "from folium.plugins import MarkerCluster\n",
    "\n",
    "\n",
    "sample_df = df.sample(n=70000)  # Sample 70000 rows for demonstration\n",
    "\n",
    "# Tạo một bản đồ với tọa độ trung bình của dữ liệu\n",
    "map_center = list(sample_df[['Start_Lat','Start_Lng']].median())\n",
    "m = folium.Map(location=map_center, zoom_start=5)\n",
    "\n",
    "# Thêm các đánh dấu cho từng điểm\n",
    "mc = MarkerCluster()\n",
    "for idx, row in sample_df.iterrows():\n",
    "    popup_text = f\"Start_Lat: {row['Start_Lat']}, Start_Lng: {row['Start_Lng']}\"\n",
    "    mc.add_child(folium.Marker([row['Start_Lat'], row['Start_Lng']], popup=popup_text))\n",
    "\n",
    "m.add_child(mc)\n",
    "\n",
    "m"
   ]
  },
  {
   "cell_type": "markdown",
   "metadata": {},
   "source": [
    "### 3.2.2 Số vụ tai nạn diễn ra trong các ngày trong tuần, các thời điểm trong ngày ? \n",
    "\n",
    "- **Lợi ích:** Giúp cho người dân biết thời điểm nào hay xảy ra tai nạn để hạn chế ra đường, và các cơ quan cảnh sát địa phương có thể tăng cường đi tuần tra vào thời điểm đó để bảo đảm trật tự giao thông, hạn chế tai nạn xảy ra.\n",
    "- **Lựa chọn biểu đồ:** Biểu đồ `heatmap` sẽ là phù hợp nhất, với các cột là các ngày trong tuần, hàng là khoảng thời gian trong ngày (đơn vị 1 giờ) .Màu sắc trong một ô sẽ thể hiện số vụ tai nạn trong thời điểm đó."
   ]
  },
  {
   "cell_type": "code",
   "execution_count": null,
   "metadata": {},
   "outputs": [],
   "source": [
    "# Tạo một mảng 2D chứa số vụ tai nạn giao thông cho mỗi khoảng thời gian 2 tiếng cho mỗi ngày trong tuần\n",
    "accident_per_2hours_df = np.zeros((12, 7))\n",
    "\n",
    "# Chuyển đổi cột 'Start_Time' thành đối tượng datetime nếu cần\n",
    "df['Start_Time'] = pd.to_datetime(df['Start_Time'])\n",
    "\n",
    "# Lấy giờ và ngày trong tuần từ cột 'Start_Time'\n",
    "hours = df['Start_Time'].dt.hour\n",
    "days_of_week = df['Start_Time'].dt.dayofweek\n",
    "\n",
    "# Chia giờ thành các khoảng thời gian 2 tiếng và tính toán số vụ tai nạn \n",
    "# giao thông trong mỗi khoảng thời gian\n",
    "hour_bins = np.floor(hours / 2).astype(int)\n",
    "accident_per_2hours_df = np.bincount(hour_bins * 7 + days_of_week, minlength=12*7).reshape(12, 7)\n",
    "\n"
   ]
  },
  {
   "cell_type": "code",
   "execution_count": null,
   "metadata": {},
   "outputs": [],
   "source": [
    "#Gán nhãn cho cột và hàng\n",
    "y_label=[\"12am-2am\",\"2am-4am\",\"4am-6am\",\"6am-8am\",\"8am-10am\",\"10am-12pm\",\n",
    "         \"12pm-2pm\",\"2pm-4pm\",\"4pm-6pm\",\"6pm-8pm\",\"8pm-10pm\",\"10pm-12am\"]\n",
    "\n",
    "x_label=[\"Monday\",\"Tuesdat\",\"Wednesday\",\"Thursday\",\"Friday\",\"Saturday\",\"Sunday\"]\n",
    "\n",
    "accident_per_2hours_df=pd.DataFrame(accident_per_2hours_df,columns=x_label,index=y_label)\n",
    "plt.figure(figsize=(15,7))\n",
    "sns.heatmap(accident_per_2hours_df,annot=True,fmt='d')\n",
    "plt.title('Số vụ tai nạn qua các thời điểm trong ngày và tuần')\n",
    "plt.show()"
   ]
  },
  {
   "cell_type": "markdown",
   "metadata": {},
   "source": [
    "- **Kết luận rút ra được:**\n",
    "    - So với các ngày trong tuần, thì `Thứ 7` và `Chủ nhật` là các ngày xảy ra ít tai nạn hơn so với các ngày còn lại .Có thể vì là ngày cuối tuần đa số người dân sẽ ở nhà nghỉ ngơi, nên số người ra đường ít hơn so với các ngày trong tuần.\n",
    "    - Thời điểm `6am-10am` và `4pm-6pm` là các thời điểm xảy ra nhiều vụ tai nạn nhất trong ngày, nhất là các ngày trong tuần. Dễ hiểu vì đây là các giờ cao điểm, lưu lượng phương tiện lưu thông trên đường phố rất cao, dẫn đến các vụ tai nạn có thể xảy ra nhiều hơn."
   ]
  },
  {
   "cell_type": "markdown",
   "metadata": {},
   "source": [
    "### 3.2.3 Số vụ tai nạn biến động qua các năm như thế nào ?\n",
    "- **Lợi ích:**\n",
    "    - Giúp cho người dân và các cơ quan chính phủ nắm bắt tình hình, thực trạng tai nạn ở Mỹ như thế nào thông qua các biểu đồ thể hiện số lượng vụ tai nạn qua các năm và số liệu đó có tính chu kì hay không .Điều này giúp cho các cơ quan có phương án hợp lí, kịp thời để xử lí các vấn đề trên.\n",
    "- **Lựa chọn biểu đồ:**\n",
    "    - Ta sẽ thực hiện decompose trên dữ liệu số lượng vụ tai nạn theo thời gian để phân tích tính xu hướng và chu kì, biểu đồ phù hợp nhất sẽ là biểu đồ đường."
   ]
  },
  {
   "cell_type": "code",
   "execution_count": null,
   "metadata": {},
   "outputs": [],
   "source": [
    "#Chuẩn bị dữ liệu cho biểu đồ\n",
    "df_time=df['Start_Time'].dt.date\n",
    "df_time=pd.DataFrame(df_time.value_counts().sort_index())\n",
    "df_time.columns=['Number of accidents']"
   ]
  },
  {
   "cell_type": "code",
   "execution_count": null,
   "metadata": {},
   "outputs": [],
   "source": [
    "\n",
    "from statsmodels.tsa.seasonal import seasonal_decompose\n",
    "\n",
    "# Phân tách thành phần\n",
    "result = seasonal_decompose(df_time['Number of accidents'], model='additive', period=365) # period: chu kỳ theo năm\n",
    "\n",
    "# Vẽ biểu đồ\n",
    "plt.figure(figsize=(20, 10))\n",
    "\n",
    "plt.subplot(4, 1, 1)\n",
    "plt.plot(df_time.index, df_time['Number of accidents'], label='Ban đầu')\n",
    "plt.legend()\n",
    "\n",
    "plt.subplot(4, 1, 2)\n",
    "plt.plot(result.trend, label='Xu hướng')\n",
    "plt.legend()\n",
    "\n",
    "plt.subplot(4, 1, 3)\n",
    "plt.plot(result.seasonal, label='Mùa vụ')\n",
    "plt.legend()\n",
    "\n",
    "plt.show()\n"
   ]
  },
  {
   "cell_type": "markdown",
   "metadata": {},
   "source": [
    "# Tổng quan tình hình tai nạn qua các năm\n"
   ]
  },
  {
   "cell_type": "markdown",
   "metadata": {},
   "source": [
    "### 3.2.3 Tổng quan tình hình tai nạn qua các năm\n",
    "- **Lợi ích:**\n",
    "    - Giups người đọc có cái nhìn chung về tình hình tai nạn giao thông qua các năm\n",
    "- **Lựa chọn biểu đồ:**\n",
    "    - Do mục đích chính của phần này là để có cái nhìn chung về số ca tai nạn theo từng năm, nên ta có thể sử dụng biểu đồ đường hoặc biểu đồ miền. Bên cạnh đó, do em muốn nhìn thấy sự thay đổi của các phân loại tai nạn (theo mức độ nghiêm trọng, theo thời gian,..) nên em sẽ sử dụng biểu đồ miền"
   ]
  },
  {
   "cell_type": "code",
   "execution_count": null,
   "metadata": {},
   "outputs": [],
   "source": [
    "import plotly.express as px\n",
    "import pandas as pd\n",
    "\n",
    "# Tạo bản sao của df\n",
    "df_copy = df.copy()\n",
    "\n",
    "# Tạo cột Year từ Start_Time\n",
    "df_copy['Year'] = df_copy['Start_Time'].dt.year\n",
    "\n",
    "# Tính tổng số vụ tai nạn theo năm và mức độ nghiêm trọng\n",
    "df_grouped = df_copy.groupby(['Year', 'Severity']).size().reset_index(name='Count')\n",
    "\n",
    "# Vẽ biểu đồ miền\n",
    "fig = px.area(df_grouped, x=\"Year\", y=\"Count\", color=\"Severity\",\n",
    "              title='Tổng số vụ tai nạn qua các năm theo mức độ nghiêm trọng',\n",
    "              labels={'Count':'Tổng số vụ tai nạn', 'Year':'Năm', 'Severity':'Mức độ nghiêm trọng'})\n",
    "\n",
    "fig.show()"
   ]
  },
  {
   "cell_type": "code",
   "execution_count": null,
   "metadata": {},
   "outputs": [],
   "source": [
    "# Group data by Year and Timezone\n",
    "df_grouped_timezone = df_copy.groupby(['Year', 'Timezone']).size().reset_index(name='Count')\n",
    "\n",
    "# Plot area chart for Timezone\n",
    "fig_timezone = px.area(df_grouped_timezone, x=\"Year\", y=\"Count\", color=\"Timezone\",\n",
    "                       title='Tổng số vụ tai nạn qua các năm theo vị trí',\n",
    "                       labels={'Count':'Tổng số vụ tai nạn', 'Year':'Năm', 'Timezone':'Vị trí'})\n",
    "fig_timezone.show()\n"
   ]
  },
  {
   "cell_type": "code",
   "execution_count": null,
   "metadata": {},
   "outputs": [],
   "source": [
    "# Group data by Year and Sunrise_Sunset\n",
    "df_grouped_sunrise_sunset = df_copy.groupby(['Year', 'Sunrise_Sunset']).size().reset_index(name='Count')\n",
    "\n",
    "# Plot area chart for Sunrise_Sunset\n",
    "fig_sunrise_sunset = px.area(df_grouped_sunrise_sunset, x=\"Year\", y=\"Count\", color=\"Sunrise_Sunset\",\n",
    "                             title='Tổng số vụ tai nạn qua các năm theo buổi',\n",
    "                             labels={'Count':'Tổng số vụ tai nạn', 'Year':'Năm', 'Sunrise_Sunset':'Buổi'})\n",
    "fig_sunrise_sunset.show()\n"
   ]
  },
  {
   "cell_type": "markdown",
   "metadata": {},
   "source": [
    "Nhận xét"
   ]
  }
 ],
 "metadata": {
  "kernelspec": {
   "display_name": "Python 3 (ipykernel)",
   "language": "python",
   "name": "python3"
  },
  "language_info": {
   "codemirror_mode": {
    "name": "ipython",
    "version": 3
   },
   "file_extension": ".py",
   "mimetype": "text/x-python",
   "name": "python",
   "nbconvert_exporter": "python",
   "pygments_lexer": "ipython3",
   "version": "3.12.1"
  }
 },
 "nbformat": 4,
 "nbformat_minor": 4
}
