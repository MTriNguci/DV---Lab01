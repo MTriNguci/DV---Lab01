{
 "cells": [
  {
   "cell_type": "markdown",
   "metadata": {},
   "source": [
    "<div style=\"text-align: center; background-color: #559cff; font-family: 'Trebuchet MS', Arial, sans-serif; color: white; padding: 20px; font-size: 40px; font-weight: bold; border-radius: 0 0 0 0; box-shadow: 0px 6px 8px rgba(0, 0, 0, 0.2);\">\n",
    "  📌  Trực Quan Hóa Dữ Liệu - 21_21 📌\n",
    "  \n",
    "   Lab 1\n",
    "</div>"
   ]
  },
  {
   "cell_type": "markdown",
   "metadata": {},
   "source": [
    "# 1. Thu thập dữ liệu"
   ]
  },
  {
   "cell_type": "markdown",
   "metadata": {},
   "source": [
    "# 2. Khám phá dữ liệu và tiền xử lí dữ liệu"
   ]
  },
  {
   "cell_type": "markdown",
   "metadata": {},
   "source": [
    "## 2.1 Load data and take a quick look"
   ]
  },
  {
   "cell_type": "code",
   "execution_count": null,
   "metadata": {},
   "outputs": [],
   "source": [
    "import numpy as np\n",
    "import pandas as pd\n",
    "import matplotlib.pyplot as plt\n",
    "import seaborn as sns \n",
    "import os \n",
    "import zipfile\n"
   ]
  },
  {
   "cell_type": "markdown",
   "metadata": {},
   "source": [
    "### 2.1.1 Đọc dữ liệu"
   ]
  },
  {
   "cell_type": "code",
   "execution_count": null,
   "metadata": {},
   "outputs": [],
   "source": [
    "data_reduced_filezippath=r\"data/US_Accidents_Reduced.zip\"\n",
    "data_reduced_filepath=r\"data/US_Accidents_Reduced.csv\"\n",
    "\n",
    "# Kiểm tra xem tệp đã được giải nén chưa\n",
    "if not os.path.exists(data_reduced_filepath):\n",
    "    if os.path.exists(data_reduced_filezippath):\n",
    "        with zipfile.ZipFile(data_reduced_filezippath, 'r') as zip_ref:\n",
    "            zip_ref.extractall(\"data\")\n",
    "        zip_ref.close()\n",
    "    else:\n",
    "        print(\"Không tìm thấy tệp dữ liệu\")\n",
    "        assert False\n",
    "# Đọc tệp CSV vào DataFrame\n",
    "chunk_size = 100000  # Điều chỉnh phù hợp với bộ nhớ của hệ thống\n",
    "chunks = pd.read_csv(data_reduced_filepath, chunksize=chunk_size)\n",
    "\n",
    "# List để lưu từng chunk\n",
    "chunk_list = []\n",
    "\n",
    "# Lặp qua từng chunk và thêm vào list\n",
    "for chunk in chunks:\n",
    "    chunk_list.append(chunk)\n",
    "\n",
    "# Gộp tất cả các chunk thành một DataFrame\n",
    "df = pd.concat(chunk_list, ignore_index=True)\n"
   ]
  },
  {
   "cell_type": "markdown",
   "metadata": {},
   "source": [
    "### 2.1.2 Kích thước dữ liệu"
   ]
  },
  {
   "cell_type": "code",
   "execution_count": null,
   "metadata": {},
   "outputs": [],
   "source": [
    "df.shape"
   ]
  },
  {
   "cell_type": "markdown",
   "metadata": {},
   "source": [
    "### 2.1.3 Giải thích ý nghĩa các cột"
   ]
  },
  {
   "cell_type": "code",
   "execution_count": null,
   "metadata": {},
   "outputs": [],
   "source": [
    "df.head()"
   ]
  },
  {
   "cell_type": "markdown",
   "metadata": {},
   "source": [
    "- **ID**: ID của vụ tai nạn\n",
    "- **Source**: Nguồn dữ liệu thô \n",
    "- **Severity**: Mức độ nghiêm trọng của vụ tai nạn, có giá trị từ 1 -> 4, biểu thị mức độ ảnh hưởng tăng dần lên hoạt động giao thông\n",
    "- **Start_Time**: Thời gian bắt đầu vụ tai nạn theo giờ địa phương\n",
    "- **End_Time**: Thời gian kết thúc vụ tai nạn, chỉ thời gian ảnh hưởng đến giao thông chấm dứt theo giờ địa phương\n",
    "- **Start_Lat**: Vĩ độ của địa điểm xảy ra tai nạn\n",
    "- **Start_Lng**: Kinh độ của địa điểm xảy ra tai nạn\n",
    "- **End_Lat**: Vĩ độ của địa điểm kết thúc\n",
    "- **End_Lng**: Kinh độ của địa điểm kết thúc\n",
    "- **Distance(mi)**: Chiều dài đoạn đường bị ảnh hưởng bởi vụ tai nạn, tính bằng Miles\n",
    "- **Description**: Mô tả về vụ tai nạn\n",
    "- **Street**: Tên đường trong trường địa chỉ\n",
    "- **City**: Tên thành phố trong trường địa chỉ\n",
    "- **County**: Tên quận trong trường địa chỉ\n",
    "- **State**: Tên bang trong trường địa chỉ\n",
    "- **Zipcode**: Mã bưu chính trong trường địa chỉ\n",
    "- **Country**: Tên quốc gia trong trường địa chỉ\n",
    "- **Timezone**: Múi giờ dựa trên vị trí xảy ra tai nạn (miền đông, miền trung,...)\n",
    "- **Airport_Code**: Trạm thời tiết dựa trên sân bay, gần nhất với vị trí của vụ tai nạn\n",
    "- **Weather_Timestamp**: Thời gian ghi nhận thông tin thời tiết (theo giờ địa phương)\n",
    "- **Temperature(F)**: Hiển thị nhiệt độ (tính bằng Fahrenheit)\n",
    "- **Wind_Chill(F)**: Hiển thị mức độ lạnh của không khí (tính bằng Fahrenheit)\n",
    "- **Humidity(%)**: Hiển thị độ ẩm (tính bằng %)\n",
    "- **Pressure(in)**: Hiển thị áp suất không khí (tính bằng inches)\n",
    "- **Visibility(mi)**: Hiển thị tầm nhìn (tính bằng miles)\n",
    "- **Wind_Direction**: Hiển thị hướng gió\n",
    "- **Wind_Speed(mph)**: Hiển thị tốc độ gió (tính bằng miles / giờ)\n",
    "- **Precipitation(in)**: Hiển thị lượng mưa tính theo inches (nếu có)\n",
    "- **Weather_Condition**: Hiển thị tình trạng thời tiết (mưa, có tuyết, có sấm sét,...)\n",
    "- **Amenity**: Chú thích địa điểm cho biết sự hiện diện của tiện nghi ở vị trí lân cận\n",
    "- **Bump**: Chú thích địa điểm cho biết sự hiện diện của gờ giảm tốc ở vị trí lân cận\n",
    "- **Crossing**: Chú thích địa điểm cho biết sự hiện diện của điểm băng qua ở vị trí lân cận\n",
    "- **Give_Way**: Chú thích địa điểm cho biết sự hiện diện của đoạn nhường đường ở vị trí lân cận\n",
    "- **Junction**: Chú thích địa điểm cho biết sự hiện diện của giao lộ ở vị trí lân cận\n",
    "- **No_Exit**: Chú thích địa điểm cho biết sự hiện diện của đoạn đường không có lối ra ở vị trí lân cận\n",
    "- **Railway**: Chú thích địa điểm cho biết sự hiện diện của đường sắt ở vị trí lân cận\n",
    "- **Roundabout**: Chú thích địa điểm cho biết sự hiện diện của bùng binh ở vị trí lân cận\n",
    "- **Station**: Chú thích địa điểm cho biết sự hiện diện của trạm tàu ở vị trí lân cận\n",
    "- **Stop**: Chú thích địa điểm cho biết sự hiện diện của điểm dừng ở vị trí lân cận\n",
    "- **Traffic_Calming**: Chú thích địa điểm cho biết sự hiện diện của các biện pháp giảm tốc ở vị trí lân cận\n",
    "- **Traffic_Signal**: Chú thích địa điểm cho biết sự hiện diện của đèn giao thông ở vị trí lân cận\n",
    "- **Turning_Loop**: Chú thích địa điểm cho biết sự hiện diện của vòng xoay ở vị trí lân cận\n",
    "- **Sunrise_Sunset**: Hiển thị khoảng thời gian trong ngày (dựa vào bình minh / hoàng hôn)\n",
    "- **Civil_Twilight**: Hiển thị khoảng thời gian trong ngày (dựa vào choạng vạng dân sự)\n",
    "- **Nautical_Twilight**: Hiển thị khoảng thời gian trong ngày (dựa vào choạng vạng hải lý)\n",
    "- **Astronomical_Twilight**: Hiển thị khoảng thời gian trong ngày (dựa vào choạng vạng thiên văn)\n"
   ]
  },
  {
   "cell_type": "markdown",
   "metadata": {},
   "source": [
    "## 2.2 Trùng lặp dữ liệu"
   ]
  },
  {
   "cell_type": "markdown",
   "metadata": {},
   "source": [
    "- Trùng lặp giữa các dòng của dữ liệu"
   ]
  },
  {
   "cell_type": "code",
   "execution_count": null,
   "metadata": {},
   "outputs": [],
   "source": [
    "is_duplicated = np.any(df.duplicated())\n",
    "if is_duplicated:\n",
    "    print('Dữ liệu có trùng lặp')\n",
    "else:\n",
    "    print('Dữ liệu không trùng lặp')"
   ]
  },
  {
   "cell_type": "markdown",
   "metadata": {},
   "source": [
    "- Có cột nào có dữ liệu lặp lại không ? (Cột đó chỉ có một giá trị)"
   ]
  },
  {
   "cell_type": "code",
   "execution_count": null,
   "metadata": {},
   "outputs": [],
   "source": [
    "duplicated_cols = [col for col in df.columns if df[col].nunique() == 1]\n",
    "print(duplicated_cols)"
   ]
  },
  {
   "cell_type": "code",
   "execution_count": null,
   "metadata": {},
   "outputs": [],
   "source": [
    "# df[duplicated_cols].value_counts()\n",
    "df[\"Country\"].nunique()"
   ]
  },
  {
   "cell_type": "markdown",
   "metadata": {},
   "source": [
    "- Cột `Country`, `Turning_Loop` chỉ có các 1 giá trị là US và False .Thực tế ta không thu được nhiều giá trị với các cột chỉ có một giá trị nên ta có thể xoá đi 2 cột này."
   ]
  },
  {
   "cell_type": "code",
   "execution_count": null,
   "metadata": {},
   "outputs": [],
   "source": [
    "df=df.drop(columns=duplicated_cols)"
   ]
  },
  {
   "cell_type": "markdown",
   "metadata": {},
   "source": [
    "## 2.3 Kiểu dữ liệu các cột"
   ]
  },
  {
   "cell_type": "markdown",
   "metadata": {},
   "source": [
    "- Tổng quan dữ liệu các cột"
   ]
  },
  {
   "cell_type": "code",
   "execution_count": null,
   "metadata": {},
   "outputs": [],
   "source": [
    "df.info()"
   ]
  },
  {
   "cell_type": "markdown",
   "metadata": {},
   "source": [
    "- Xét về kiểu dữ liệu: Ta thấy có cột `Start_Time`,`End_Time`, `Weather_Timestamp` có ý nghĩa thời gian nhưng được lưu ở kiểu **object**  .Vì vậy cần chuyển đổi kiểu dữ liệu của 3 cột bên trên sang dạng **datetime**."
   ]
  },
  {
   "cell_type": "code",
   "execution_count": null,
   "metadata": {},
   "outputs": [],
   "source": [
    "# #Chuyển các cột time sang kiểu datetime\n",
    "time_cols=['Start_Time','End_Time','Weather_Timestamp']\n",
    "for col in time_cols:\n",
    "    df[col]=pd.to_datetime(df[col], format='mixed')\n"
   ]
  },
  {
   "cell_type": "code",
   "execution_count": null,
   "metadata": {},
   "outputs": [],
   "source": [
    "#in ra cột Start_Time, End_Time, Weather_Timestamp\n",
    "df[time_cols].head()\n"
   ]
  },
  {
   "cell_type": "markdown",
   "metadata": {},
   "source": [
    "- Kiểu dữ liệu các cột sau khi chuyển đổi"
   ]
  },
  {
   "cell_type": "code",
   "execution_count": null,
   "metadata": {},
   "outputs": [],
   "source": [
    "df.info()"
   ]
  },
  {
   "cell_type": "markdown",
   "metadata": {},
   "source": [
    "## 2.4 Khám phá dữ liệu numerical và categorical"
   ]
  },
  {
   "cell_type": "markdown",
   "metadata": {},
   "source": [
    "### 2.4.1 Với dữ liệu dạng số"
   ]
  },
  {
   "cell_type": "code",
   "execution_count": null,
   "metadata": {},
   "outputs": [],
   "source": [
    "numerical_cols = df.select_dtypes(include=[np.number]).columns\n",
    "numerical_cols"
   ]
  },
  {
   "cell_type": "markdown",
   "metadata": {},
   "source": [
    "#### 2.4.1.1 Missing value"
   ]
  },
  {
   "cell_type": "code",
   "execution_count": null,
   "metadata": {},
   "outputs": [],
   "source": [
    "import plotly.graph_objects as go\n",
    "import pandas as pd\n",
    "\n",
    "# Lặp qua các cột số để tính tỉ lệ giá trị thiếu\n",
    "missing_percentages = [(col, df[col].isnull().mean() * 100) for col in numerical_cols]\n",
    "\n",
    "# Sắp xếp theo tỉ lệ giảm dần\n",
    "missing_percentages.sort(key=lambda x: x[1], reverse=False)\n",
    "\n",
    "# Tạo DataFrame từ list\n",
    "missing_df = pd.DataFrame(missing_percentages, columns=['Cột', 'Tỉ lệ giá trị thiếu (%)'])\n",
    "\n",
    "# Vẽ biểu đồ cột ngang sử dụng Plotly\n",
    "fig = go.Figure(go.Bar(\n",
    "            x=missing_df['Tỉ lệ giá trị thiếu (%)'],\n",
    "            y=missing_df['Cột'],\n",
    "            orientation='h'))\n",
    "\n",
    "fig.update_layout(\n",
    "    title='Tỉ lệ giá trị thiếu trong các cột số',\n",
    "    xaxis=dict(title='Tỉ lệ giá trị thiếu (%)'),\n",
    "    yaxis=dict(title='Cột'),\n",
    "    bargap=0.1,  # Độ rộng của khoảng trống giữa các cột\n",
    "    margin=dict(l=100, r=50, t=50, b=50)  # Lề của biểu đồ\n",
    ")\n",
    "\n",
    "fig.show()\n"
   ]
  },
  {
   "cell_type": "markdown",
   "metadata": {},
   "source": [
    "- Chúng ta có thể thấy, 2 cột `End_lat` và `End_Lng` là 2 cột tọa độ có tỉ lệ missing cao. Chúng ta có thể drop hoặc điền bằng 0.\n",
    "- Những cột còn lại có thể điền missing value bằng **mean**"
   ]
  },
  {
   "cell_type": "code",
   "execution_count": null,
   "metadata": {},
   "outputs": [],
   "source": [
    "\n",
    "#drop cột End_lat và End_Lng\n",
    "df=df.drop(columns=['End_Lat','End_Lng'])\n",
    "# điền cho những cột còn lại\n",
    "#bỏ End_Lat và End_Lng ra khỏi numerical_cols\n",
    "numerical_cols = numerical_cols.drop(['End_Lat', 'End_Lng'])\n",
    "columns_to_fill_mean = numerical_cols\n",
    "df[columns_to_fill_mean] = df[columns_to_fill_mean].apply(lambda x: x.fillna(x.mean()))\n",
    "\n",
    "print(df[numerical_cols].isnull().sum())\n"
   ]
  },
  {
   "cell_type": "markdown",
   "metadata": {},
   "source": [
    "#### 2.4.1.1 Phân phối của dữ liệu dạng số"
   ]
  },
  {
   "cell_type": "code",
   "execution_count": null,
   "metadata": {},
   "outputs": [],
   "source": [
    "#in ra phân phối của các cột\n",
    "# df[numerical_cols].hist(bins=30, figsize=(20,20), color='r', alpha=0.7)\n",
    "plt.show()\n"
   ]
  },
  {
   "cell_type": "markdown",
   "metadata": {},
   "source": [
    "### 2.4.2 Xử lí các cột categories"
   ]
  },
  {
   "cell_type": "code",
   "execution_count": null,
   "metadata": {},
   "outputs": [],
   "source": [
    "#Chọn ra các cột có kiểu dữ liệu là category\n",
    "category_cols = df.select_dtypes(include=['object','bool']).columns\n",
    "category_cols"
   ]
  },
  {
   "cell_type": "markdown",
   "metadata": {},
   "source": [
    "#### 2.4.2.1 Kiểm tra các giá trị bị thiếu"
   ]
  },
  {
   "cell_type": "code",
   "execution_count": null,
   "metadata": {},
   "outputs": [],
   "source": [
    "import plotly.graph_objects as go\n",
    "\n",
    "# Tính tỉ lệ giá trị thiếu của mỗi cột\n",
    "missing_percentages = df[category_cols].isnull().mean() * 100\n",
    "\n",
    "# Sắp xếp giảm dần các cột theo tỉ lệ giá trị thiếu\n",
    "missing_percentages_sorted = missing_percentages.sort_values(ascending=True)\n",
    "\n",
    "# Vẽ biểu đồ cột ngang sử dụng Plotly\n",
    "fig = go.Figure(go.Bar(\n",
    "            x=missing_percentages_sorted,\n",
    "            y=missing_percentages_sorted.index,\n",
    "            orientation='h',\n",
    "            marker=dict(color='skyblue')\n",
    "        ))\n",
    "\n",
    "fig.update_layout(\n",
    "    title='Tỉ lệ giá trị thiếu trong các cột category',\n",
    "    xaxis=dict(title='Tỉ lệ giá trị thiếu (%)'),\n",
    "    yaxis=dict(title='Cột')\n",
    ")\n",
    "\n",
    "fig.show()\n"
   ]
  },
  {
   "cell_type": "markdown",
   "metadata": {},
   "source": [
    "Ta có thể thấy tỉ lệ giá trị bị thiếu ở các cột này là rất thấp, vậy nên, ta sẽ điền các giá trị bị thiếu này bằng mode"
   ]
  },
  {
   "cell_type": "code",
   "execution_count": null,
   "metadata": {},
   "outputs": [],
   "source": [
    "#Điền các giá trị thiếu bằng giá trị mode\n",
    "df[category_cols] = df[category_cols].apply(lambda x: x.fillna(x.mode()[0]))\n",
    "#Kiếm tra lại xem còn có cột nào bị thiếu giá trị không (in ra cột có số lượng giá trị thiếu > 0)\n",
    "missing_values = df[category_cols].isnull().sum()\n",
    "missing_values = missing_values[missing_values > 0]\n",
    "missing_values\n"
   ]
  },
  {
   "cell_type": "markdown",
   "metadata": {},
   "source": [
    "#### 2.4.2.1 Kiểm tra phân bố của các giá trị trong các cột categories"
   ]
  },
  {
   "cell_type": "markdown",
   "metadata": {},
   "source": [
    "Với mỗi cột, xem xét tỉ lệ các giá trị bên trong của cột đó"
   ]
  },
  {
   "cell_type": "code",
   "execution_count": null,
   "metadata": {},
   "outputs": [],
   "source": [
    "category_cols"
   ]
  },
  {
   "cell_type": "code",
   "execution_count": null,
   "metadata": {},
   "outputs": [],
   "source": [
    "#in ra số lượng giá trị độc nhất của các cột\n",
    "unique_value_counts = df[category_cols].nunique().sort_values(ascending=True)\n",
    "unique_value_counts"
   ]
  },
  {
   "cell_type": "markdown",
   "metadata": {},
   "source": [
    "- Do thông tin về địa điểm xảy ra tai nạn đã được thể hiện qua các biến khác như County, City, nên ta sẽ bỏ cột Zipcode\n",
    "- Do ID chỉ để định danh vụ tai nạn, sau khi đã kiểm tra trùng lặp, ta có thể loại bỏ cột này\n",
    "- Do ta không quan tâm đến vị trí của trạm thời tiết gần vụ tai nạn, nên ta cũng sẽ bỏ cột này"
   ]
  },
  {
   "cell_type": "code",
   "execution_count": null,
   "metadata": {},
   "outputs": [],
   "source": [
    "#drop cột Zipcode\n",
    "df.drop(columns=['Zipcode', 'Airport_Code', 'ID'], inplace=True)\n",
    "unique_value_counts =unique_value_counts.drop(['Zipcode', 'Airport_Code', 'ID'])"
   ]
  },
  {
   "cell_type": "markdown",
   "metadata": {},
   "source": [
    "Ta có thể thấy hầu hết các cột đều phù hợp với việc biểu diễn bằng biểu đồ tròn để quan sát phân bố của các giá trị trong cột, trừ các cột có quá nhiều giá trị, đối với các cột này, ta sẽ dùng biểu đồ cột để quan sát top 15 giá trị có tần suất xuất hiện cao nhất\n",
    "\n",
    "Trước hết, ta sẽ vẽ biểu đồ tròn để quan sát cách dữ liệu phân phối ở các cột này"
   ]
  },
  {
   "cell_type": "code",
   "execution_count": null,
   "metadata": {},
   "outputs": [],
   "source": [
    "#Lấy ra tên các cột có số lượng giá trị độc nhất nhỏ hơn 5\n",
    "pie_chart = unique_value_counts[unique_value_counts < 5].index\n",
    "pie_chart"
   ]
  },
  {
   "cell_type": "code",
   "execution_count": null,
   "metadata": {},
   "outputs": [],
   "source": [
    "#bỏ cột Id và Description\n",
    "category_cols = pie_chart\n",
    "\n",
    "# Định nghĩa một bảng màu gồm 10 màu\n",
    "palette = plt.cm.tab20.colors[:12]\n",
    "\n",
    "import math\n",
    "\n",
    "num_cols = 3\n",
    "num_rows = math.ceil(len(category_cols) / num_cols)\n",
    "\n",
    "fig, axs = plt.subplots(num_rows, num_cols, figsize=(20, 4*num_rows))\n",
    "\n",
    "for i, column in enumerate(category_cols):\n",
    "    row = i // num_cols\n",
    "    col = i % num_cols\n",
    "    \n",
    "    counts = df[column].value_counts(normalize=True)\n",
    "    counts = counts.sort_values(ascending=False)\n",
    "\n",
    "    axs[row, col].pie(counts, labels=counts.index, autopct='%1.1f%%', colors=palette)\n",
    "    axs[row, col].set_title(f'Biểu đồ tròn cho cột {column}')\n",
    "\n",
    "plt.tight_layout()\n",
    "plt.show()\n"
   ]
  },
  {
   "cell_type": "markdown",
   "metadata": {},
   "source": [
    "VẼ biểu đồ cột cho các giá trị còn lại"
   ]
  },
  {
   "cell_type": "code",
   "execution_count": null,
   "metadata": {},
   "outputs": [],
   "source": [
    "bar_chart = unique_value_counts[unique_value_counts > 5].index\n",
    "bar_chart = bar_chart.drop(['Description'])\n",
    "bar_chart"
   ]
  },
  {
   "cell_type": "code",
   "execution_count": null,
   "metadata": {},
   "outputs": [],
   "source": [
    "import plotly.graph_objects as go\n",
    "\n",
    "# Hàm vẽ biểu đồ cột ngang với dữ liệu được chuẩn hóa thành tỷ lệ phần trăm và sắp xếp giảm dần\n",
    "def plot_horizontal_bar_chart(df, column, xlabel, ylabel, title):\n",
    "    fig = go.Figure()\n",
    "    sorted_data = df[column].value_counts(normalize=True).nlargest(15).sort_values(ascending=False)\n",
    "    fig.add_trace(go.Bar(\n",
    "        y=sorted_data.index,\n",
    "        x=sorted_data.values * 100,\n",
    "        orientation='h',\n",
    "        marker=dict(color='blue'),\n",
    "    ))\n",
    "\n",
    "    fig.update_layout(\n",
    "        title=title,\n",
    "        xaxis_title=xlabel,\n",
    "        yaxis_title=ylabel,\n",
    "        yaxis=dict(autorange=\"reversed\"),\n",
    "        height=600,\n",
    "        width=800,\n",
    "    )\n",
    "\n",
    "    fig.show()\n",
    "\n",
    "# Hoặc có thể duyệt qua tất cả các cột trong bar_chart để vẽ biểu đồ cho mỗi cột\n",
    "for column in bar_chart:\n",
    "    plot_horizontal_bar_chart(df, column, '% Số lần xuất hiện', 'Tên đường', f'Tỷ lệ phần trăm của các giá trị xuất hiện trong cột {column}')\n"
   ]
  }
 ],
 "metadata": {
  "kernelspec": {
   "display_name": "min_ds",
   "language": "python",
   "name": "python3"
  },
  "language_info": {
   "codemirror_mode": {
    "name": "ipython",
    "version": 3
   },
   "file_extension": ".py",
   "mimetype": "text/x-python",
   "name": "python",
   "nbconvert_exporter": "python",
   "pygments_lexer": "ipython3",
   "version": "3.12.1"
  }
 },
 "nbformat": 4,
 "nbformat_minor": 2
}
