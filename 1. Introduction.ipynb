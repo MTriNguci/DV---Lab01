{
 "cells": [
  {
   "cell_type": "markdown",
   "metadata": {},
   "source": [
    "<div style=\"text-align: center; background-color: #559cff; font-family: 'Trebuchet MS', Arial, sans-serif; color: white; padding: 20px; font-size: 40px; font-weight: bold; border-radius: 0 0 0 0; box-shadow: 0px 6px 8px rgba(0, 0, 0, 0.2);\">\n",
    "  📌  Trực Quan Hóa Dữ Liệu - 21_21 📌\n",
    "\n",
    "  Lab 01\n",
    "</div>"
   ]
  },
  {
   "cell_type": "markdown",
   "metadata": {},
   "source": [
    "<div style=\"text-align: center; background-color: #b1d1ff; font-family: 'Trebuchet MS', Arial, sans-serif; color: white; padding: 20px; font-size: 40px; font-weight: bold; border-radius: 0 0 0 0; box-shadow: 0px 6px 8px rgba(0, 0, 0, 0.2);\">\n",
    "  Phần 1 - Thu thập dữ liệu\n",
    "</div>"
   ]
  },
  {
   "cell_type": "markdown",
   "metadata": {},
   "source": [
    "### **THÔNG TIN CHUNG**"
   ]
  },
  {
   "cell_type": "markdown",
   "metadata": {},
   "source": [
    "> #### Nhóm 21\n",
    "> #### Project: US Accidents Analysis"
   ]
  },
  {
   "cell_type": "markdown",
   "metadata": {},
   "source": [
    "<style>\n",
    "    table {\n",
    "        width: 100%;\n",
    "        border-collapse: collapse;\n",
    "    }\n",
    "    th, td {\n",
    "        padding: 8px;\n",
    "        text-align: left;\n",
    "        border-bottom: 1px solid #ddd;\n",
    "    }\n",
    "    th {\n",
    "        background-color: #f2f2f2;\n",
    "        color: black\n",
    "    }\n",
    "</style>\n",
    "\n",
    "<table>\n",
    "  <tr>\n",
    "    <th>STT</th>\n",
    "    <th>Họ và tên</th>\n",
    "    <th>MSSV</th>\n",
    "  </tr>\n",
    "  <tr>\n",
    "    <td>1</td>\n",
    "    <td>Nguyễn Huy Hoàng</td>\n",
    "    <td>21120458</td>\n",
    "  </tr>\n",
    "  <tr>\n",
    "    <td>2</td>\n",
    "    <td>Võ Bá Hoàng Nhất</td>\n",
    "    <td>21120516</td>\n",
    "  </tr>\n",
    "  <tr>\n",
    "    <td>3</td>\n",
    "    <td>Nguyễn Minh Trí</td>\n",
    "    <td>21120574</td>\n",
    "  </tr>\n",
    "  <tr>\n",
    "    <td>4</td>\n",
    "    <td>Trần Thị Kim Trinh</td>\n",
    "    <td>21120580</td>\n",
    "  </tr>\n",
    "  <tr>\n",
    "    <td>5</td>\n",
    "    <td>Lê Anh Tú</td>\n",
    "    <td>21120585</td>\n",
    "  </tr>\n",
    "</table>\n"
   ]
  },
  {
   "cell_type": "markdown",
   "metadata": {},
   "source": [
    "### **THU THẬP DỮ LIỆU**"
   ]
  },
  {
   "cell_type": "markdown",
   "metadata": {},
   "source": [
    ">  **Ngữ cảnh:** \n",
    "\n",
    "Nhóm sinh viên quan tâm đến việc nghiên cứu về tai nạn giao thông ở Hoa Kỳ và ảnh hưởng của các yếu tố (như thời tiết, địa điểm, thời gian,…) đối với việc xảy ra tai nạn, từ đó phân tích và trực quan hóa để có cái nhìn sâu sắc hơn về vấn đề này. Chúng em cũng muốn khám phá khả năng của dữ liệu này trong việc phân tích và dự đoán các mẫu tai nạn để đề xuất các biện pháp giảm thiểu tai nạn và cải thiện hệ thống giao thông.\n",
    "\n",
    "> **Dữ liệu sử dụng:** \n",
    "\n",
    "- Tên dữ liệu: US Accidents (2016 - 2023) \n",
    "- Chủ đề: tai nạn giao thông\n",
    "- Nguồn: được lấy từ bộ dữ liệu \"A Countrywide Traffic Accident Dataset\" - một bộ dữ liệu về tai nạn giao thông quốc gia của Hoa Kỳ từ năm 2016 đến năm 2023. \n",
    "\n",
    "> **License:** \n",
    "\n",
    "Dữ liệu được phân phối dưới giấy phép Attribution-NonCommercial-ShareAlike 4.0 International (CC BY-NC-SA 4.0), chỉ được sử dụng cho mục đích nghiên cứu, không thương mại.\n",
    "\n",
    "> **Phương pháp thu thập:**\n",
    "\n",
    "- Dữ liệu được thu thập thông qua nhiều API cung cấp dữ liệu sự cố giao thông (hoặc sự kiện) từ tháng 2 năm 2016 đến tháng 3 năm 2023. Các API này phát sóng dữ liệu giao thông được thu thập bởi các cơ quan vận tải của Mỹ và các cơ quan thực thi pháp luật, camera giao thông và cảm biến giao thông trong mạng lưới đường. \n",
    "- Phương pháp này cho phép thu thập dữ liệu thời gian thực về các sự kiện tai nạn giao thông."
   ]
  }
 ],
 "metadata": {
  "kernelspec": {
   "display_name": "Python 3",
   "language": "python",
   "name": "python3"
  },
  "language_info": {
   "codemirror_mode": {
    "name": "ipython",
    "version": 3
   },
   "file_extension": ".py",
   "mimetype": "text/x-python",
   "name": "python",
   "nbconvert_exporter": "python",
   "pygments_lexer": "ipython3",
   "version": "3.11.4"
  }
 },
 "nbformat": 4,
 "nbformat_minor": 2
}
